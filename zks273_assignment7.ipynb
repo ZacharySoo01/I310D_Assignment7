{
 "cells": [
  {
   "cell_type": "markdown",
   "id": "f80c73c1",
   "metadata": {},
   "source": [
    "# Implementation of the ETL method (Extract, Transform, Load)"
   ]
  },
  {
   "cell_type": "markdown",
   "id": "454e6462",
   "metadata": {},
   "source": [
    "## Extracting the Raw Data from the webpage\n",
    "- First, import the libraries (pandas, requests, and BeautifulSoup)\n",
    "- Choose a url (I chose a wikipedia page) and get the status code from the url\n",
    "- If the code is 200, we can proceed with extracting data\n",
    "- Next, parse wikipedia page with BeautifulSoup\n",
    "- Find html with \"table\", and grab data from the 4th table (the one we want)\n",
    "- Convert the raw data from the table to a pandas Dataframe"
   ]
  },
  {
   "cell_type": "code",
   "execution_count": 299,
   "id": "0b926c97",
   "metadata": {},
   "outputs": [
    {
     "name": "stdout",
     "output_type": "stream",
     "text": [
      "200\n"
     ]
    },
    {
     "data": {
      "text/html": [
       "<div>\n",
       "<style scoped>\n",
       "    .dataframe tbody tr th:only-of-type {\n",
       "        vertical-align: middle;\n",
       "    }\n",
       "\n",
       "    .dataframe tbody tr th {\n",
       "        vertical-align: top;\n",
       "    }\n",
       "\n",
       "    .dataframe thead tr th {\n",
       "        text-align: left;\n",
       "    }\n",
       "</style>\n",
       "<table border=\"1\" class=\"dataframe\">\n",
       "  <thead>\n",
       "    <tr>\n",
       "      <th></th>\n",
       "      <th>2021 Rank</th>\n",
       "      <th>Municipality</th>\n",
       "      <th>Designation[8]</th>\n",
       "      <th>Primary County</th>\n",
       "      <th>Secondary County(ies)</th>\n",
       "      <th colspan=\"4\" halign=\"left\">Population</th>\n",
       "    </tr>\n",
       "    <tr>\n",
       "      <th></th>\n",
       "      <th>2021 Rank</th>\n",
       "      <th>Municipality</th>\n",
       "      <th>Designation[8]</th>\n",
       "      <th>Primary County</th>\n",
       "      <th>Secondary County(ies)</th>\n",
       "      <th>2021 Estimate[8]</th>\n",
       "      <th>2020 Census[1]</th>\n",
       "      <th>2010 Census[9]</th>\n",
       "      <th>2010-2020 Change</th>\n",
       "    </tr>\n",
       "  </thead>\n",
       "  <tbody>\n",
       "    <tr>\n",
       "      <th>0</th>\n",
       "      <td>1</td>\n",
       "      <td>Houston</td>\n",
       "      <td>City</td>\n",
       "      <td>Harris</td>\n",
       "      <td>Fort Bend, Montgomery</td>\n",
       "      <td>2288250</td>\n",
       "      <td>2304580</td>\n",
       "      <td>2099451</td>\n",
       "      <td>+9.77%</td>\n",
       "    </tr>\n",
       "    <tr>\n",
       "      <th>1</th>\n",
       "      <td>2</td>\n",
       "      <td>San Antonio</td>\n",
       "      <td>City</td>\n",
       "      <td>Bexar</td>\n",
       "      <td>Medina, Comal</td>\n",
       "      <td>1451853</td>\n",
       "      <td>1434625</td>\n",
       "      <td>1327407</td>\n",
       "      <td>+8.08%</td>\n",
       "    </tr>\n",
       "    <tr>\n",
       "      <th>2</th>\n",
       "      <td>3</td>\n",
       "      <td>Dallas</td>\n",
       "      <td>City</td>\n",
       "      <td>Dallas</td>\n",
       "      <td>Rockwall, Kaufman, Denton, Collin</td>\n",
       "      <td>1288457</td>\n",
       "      <td>1304379</td>\n",
       "      <td>1197816</td>\n",
       "      <td>+8.90%</td>\n",
       "    </tr>\n",
       "    <tr>\n",
       "      <th>3</th>\n",
       "      <td>4</td>\n",
       "      <td>Austin</td>\n",
       "      <td>City</td>\n",
       "      <td>Travis</td>\n",
       "      <td>Williamson, Hays</td>\n",
       "      <td>964177</td>\n",
       "      <td>961855</td>\n",
       "      <td>790390</td>\n",
       "      <td>+21.69%</td>\n",
       "    </tr>\n",
       "    <tr>\n",
       "      <th>4</th>\n",
       "      <td>5</td>\n",
       "      <td>Fort Worth</td>\n",
       "      <td>City</td>\n",
       "      <td>Tarrant</td>\n",
       "      <td>Denton, Parker, Wise</td>\n",
       "      <td>935508</td>\n",
       "      <td>918915</td>\n",
       "      <td>741206</td>\n",
       "      <td>+23.98%</td>\n",
       "    </tr>\n",
       "  </tbody>\n",
       "</table>\n",
       "</div>"
      ],
      "text/plain": [
       "  2021 Rank Municipality Designation[8] Primary County  \\\n",
       "  2021 Rank Municipality Designation[8] Primary County   \n",
       "0         1      Houston           City         Harris   \n",
       "1         2  San Antonio           City          Bexar   \n",
       "2         3       Dallas           City         Dallas   \n",
       "3         4       Austin           City         Travis   \n",
       "4         5   Fort Worth           City        Tarrant   \n",
       "\n",
       "               Secondary County(ies)       Population                 \\\n",
       "               Secondary County(ies) 2021 Estimate[8] 2020 Census[1]   \n",
       "0              Fort Bend, Montgomery          2288250        2304580   \n",
       "1                      Medina, Comal          1451853        1434625   \n",
       "2  Rockwall, Kaufman, Denton, Collin          1288457        1304379   \n",
       "3                   Williamson, Hays           964177         961855   \n",
       "4               Denton, Parker, Wise           935508         918915   \n",
       "\n",
       "                                   \n",
       "  2010 Census[9] 2010-2020 Change  \n",
       "0        2099451           +9.77%  \n",
       "1        1327407           +8.08%  \n",
       "2        1197816           +8.90%  \n",
       "3         790390          +21.69%  \n",
       "4         741206          +23.98%  "
      ]
     },
     "execution_count": 299,
     "metadata": {},
     "output_type": "execute_result"
    }
   ],
   "source": [
    "import pandas as pd \n",
    "import requests \n",
    "from bs4 import BeautifulSoup \n",
    "import numpy as np\n",
    "wikiurl=\"https://en.wikipedia.org/wiki/List_of_municipalities_in_Texas\"\n",
    "table_class=\"wikitable sortable jquery-tablesorter\"\n",
    "response=requests.get(wikiurl)\n",
    "print(response.status_code)\n",
    "# parse wikipedia page with BeautifulSoup\n",
    "soup = BeautifulSoup(response.text, 'html.parser')\n",
    "# since there are multiple tables in the webpage, grab data from the first table (the one we want)\n",
    "txtable=soup.find_all('table')[0]\n",
    "raw_data=pd.read_html(str(txtable))\n",
    "# convert raw data from table to dataframe\n",
    "raw_data=pd.DataFrame(raw_data[0])\n",
    "raw_data.head()"
   ]
  },
  {
   "cell_type": "markdown",
   "id": "1a3557db",
   "metadata": {},
   "source": [
    "## Save the noisy, Raw Data to CSV"
   ]
  },
  {
   "cell_type": "code",
   "execution_count": 300,
   "id": "95cac797",
   "metadata": {},
   "outputs": [],
   "source": [
    "raw_data.to_csv(\"WikiTXCitiesPopulationRaw.csv\")"
   ]
  },
  {
   "cell_type": "markdown",
   "id": "66e2d631",
   "metadata": {},
   "source": [
    "## Transforming the Data\n",
    "- Create dataframe variable that will contain the final data, name it \"final_data\"\n",
    "- Drop unnecessary columns from the table (I kept the columns with land area and population density in 2020 with units of km^2 and dropped the columns with data in sq miles and location)\n",
    "- Rename the remaining columns names and check result by printing the head"
   ]
  },
  {
   "cell_type": "code",
   "execution_count": 301,
   "id": "8b221ed7",
   "metadata": {},
   "outputs": [
    {
     "data": {
      "text/html": [
       "<div>\n",
       "<style scoped>\n",
       "    .dataframe tbody tr th:only-of-type {\n",
       "        vertical-align: middle;\n",
       "    }\n",
       "\n",
       "    .dataframe tbody tr th {\n",
       "        vertical-align: top;\n",
       "    }\n",
       "\n",
       "    .dataframe thead th {\n",
       "        text-align: right;\n",
       "    }\n",
       "</style>\n",
       "<table border=\"1\" class=\"dataframe\">\n",
       "  <thead>\n",
       "    <tr style=\"text-align: right;\">\n",
       "      <th></th>\n",
       "      <th>2021 Rank</th>\n",
       "      <th>Municipality</th>\n",
       "      <th>Designation</th>\n",
       "      <th>Primary County</th>\n",
       "      <th>2021 Estimate</th>\n",
       "      <th>2020 Census</th>\n",
       "      <th>2010 Census</th>\n",
       "      <th>% Change</th>\n",
       "    </tr>\n",
       "  </thead>\n",
       "  <tbody>\n",
       "    <tr>\n",
       "      <th>0</th>\n",
       "      <td>1</td>\n",
       "      <td>Houston</td>\n",
       "      <td>City</td>\n",
       "      <td>Harris</td>\n",
       "      <td>2288250</td>\n",
       "      <td>2304580</td>\n",
       "      <td>2099451</td>\n",
       "      <td>+9.77%</td>\n",
       "    </tr>\n",
       "    <tr>\n",
       "      <th>1</th>\n",
       "      <td>2</td>\n",
       "      <td>San Antonio</td>\n",
       "      <td>City</td>\n",
       "      <td>Bexar</td>\n",
       "      <td>1451853</td>\n",
       "      <td>1434625</td>\n",
       "      <td>1327407</td>\n",
       "      <td>+8.08%</td>\n",
       "    </tr>\n",
       "    <tr>\n",
       "      <th>2</th>\n",
       "      <td>3</td>\n",
       "      <td>Dallas</td>\n",
       "      <td>City</td>\n",
       "      <td>Dallas</td>\n",
       "      <td>1288457</td>\n",
       "      <td>1304379</td>\n",
       "      <td>1197816</td>\n",
       "      <td>+8.90%</td>\n",
       "    </tr>\n",
       "    <tr>\n",
       "      <th>3</th>\n",
       "      <td>4</td>\n",
       "      <td>Austin</td>\n",
       "      <td>City</td>\n",
       "      <td>Travis</td>\n",
       "      <td>964177</td>\n",
       "      <td>961855</td>\n",
       "      <td>790390</td>\n",
       "      <td>+21.69%</td>\n",
       "    </tr>\n",
       "    <tr>\n",
       "      <th>4</th>\n",
       "      <td>5</td>\n",
       "      <td>Fort Worth</td>\n",
       "      <td>City</td>\n",
       "      <td>Tarrant</td>\n",
       "      <td>935508</td>\n",
       "      <td>918915</td>\n",
       "      <td>741206</td>\n",
       "      <td>+23.98%</td>\n",
       "    </tr>\n",
       "  </tbody>\n",
       "</table>\n",
       "</div>"
      ],
      "text/plain": [
       "  2021 Rank Municipality Designation Primary County  2021 Estimate  \\\n",
       "0         1      Houston        City         Harris        2288250   \n",
       "1         2  San Antonio        City          Bexar        1451853   \n",
       "2         3       Dallas        City         Dallas        1288457   \n",
       "3         4       Austin        City         Travis         964177   \n",
       "4         5   Fort Worth        City        Tarrant         935508   \n",
       "\n",
       "  2020 Census 2010 Census % Change  \n",
       "0     2304580     2099451   +9.77%  \n",
       "1     1434625     1327407   +8.08%  \n",
       "2     1304379     1197816   +8.90%  \n",
       "3      961855      790390  +21.69%  \n",
       "4      918915      741206  +23.98%  "
      ]
     },
     "execution_count": 301,
     "metadata": {},
     "output_type": "execute_result"
    }
   ],
   "source": [
    "# drop the unwanted columns\n",
    "raw_data.columns = raw_data.columns.droplevel(0)\n",
    "final_data = raw_data.drop([\"Secondary County(ies)\"], axis = 1)\n",
    "\n",
    "\n",
    "# rename columns for ease\n",
    "final_data = final_data.rename(columns={\"Designation[8]\": \"Designation\",\"2021 Estimate[8]\": \"2021 Estimate\", \"2020 Census[1]\":\"2020 Census\", \"2010 Census[9]\":\"2010 Census\",\"2010-2020 Change\": \"% Change\"})\n",
    "\n",
    "final_data.head()\n"
   ]
  },
  {
   "cell_type": "markdown",
   "id": "c7392819",
   "metadata": {},
   "source": [
    "## Perform Duplication checks on the data"
   ]
  },
  {
   "cell_type": "code",
   "execution_count": 302,
   "id": "18e3edae",
   "metadata": {},
   "outputs": [
    {
     "name": "stdout",
     "output_type": "stream",
     "text": [
      " Number of duplicates before : 0\n",
      " Number of duplicates after removing : 0\n"
     ]
    }
   ],
   "source": [
    "number_of_duplicates = final_data.duplicated().sum()\n",
    "print (f\" Number of duplicates before : {number_of_duplicates}\")\n",
    "\n",
    "\n",
    "final_data = final_data.drop_duplicates()\n",
    "\n",
    "number_of_duplicates = final_data.duplicated().sum()\n",
    "print (f\" Number of duplicates after removing : {number_of_duplicates}\")"
   ]
  },
  {
   "cell_type": "markdown",
   "id": "52b0a603",
   "metadata": {},
   "source": [
    "## Inspecting the data for noisy entries"
   ]
  },
  {
   "cell_type": "code",
   "execution_count": 303,
   "id": "4fc86b18",
   "metadata": {
    "scrolled": true
   },
   "outputs": [
    {
     "name": "stdout",
     "output_type": "stream",
     "text": [
      "<class 'pandas.core.frame.DataFrame'>\n",
      "Int64Index: 1223 entries, 0 to 1222\n",
      "Data columns (total 8 columns):\n",
      " #   Column          Non-Null Count  Dtype \n",
      "---  ------          --------------  ----- \n",
      " 0   2021 Rank       1223 non-null   object\n",
      " 1   Municipality    1223 non-null   object\n",
      " 2   Designation     1223 non-null   object\n",
      " 3   Primary County  1223 non-null   object\n",
      " 4   2021 Estimate   1223 non-null   int64 \n",
      " 5   2020 Census     1223 non-null   object\n",
      " 6   2010 Census     1223 non-null   object\n",
      " 7   % Change        1220 non-null   object\n",
      "dtypes: int64(1), object(7)\n",
      "memory usage: 86.0+ KB\n"
     ]
    }
   ],
   "source": [
    "final_data.info()"
   ]
  },
  {
   "cell_type": "markdown",
   "id": "9804b095",
   "metadata": {},
   "source": [
    "## Drop the null entries"
   ]
  },
  {
   "cell_type": "code",
   "execution_count": 304,
   "id": "5ef1c285",
   "metadata": {},
   "outputs": [
    {
     "name": "stdout",
     "output_type": "stream",
     "text": [
      "<class 'pandas.core.frame.DataFrame'>\n",
      "Int64Index: 1220 entries, 0 to 1222\n",
      "Data columns (total 8 columns):\n",
      " #   Column          Non-Null Count  Dtype \n",
      "---  ------          --------------  ----- \n",
      " 0   2021 Rank       1220 non-null   object\n",
      " 1   Municipality    1220 non-null   object\n",
      " 2   Designation     1220 non-null   object\n",
      " 3   Primary County  1220 non-null   object\n",
      " 4   2021 Estimate   1220 non-null   int64 \n",
      " 5   2020 Census     1220 non-null   object\n",
      " 6   2010 Census     1220 non-null   object\n",
      " 7   % Change        1220 non-null   object\n",
      "dtypes: int64(1), object(7)\n",
      "memory usage: 85.8+ KB\n"
     ]
    }
   ],
   "source": [
    "final_data = final_data.dropna()\n",
    "final_data.info()"
   ]
  },
  {
   "cell_type": "markdown",
   "id": "3e1dd492",
   "metadata": {},
   "source": [
    "## Drop data with dashed information (no value provided)"
   ]
  },
  {
   "cell_type": "code",
   "execution_count": 305,
   "id": "b65862f0",
   "metadata": {},
   "outputs": [
    {
     "name": "stdout",
     "output_type": "stream",
     "text": [
      "<class 'pandas.core.frame.DataFrame'>\n",
      "Int64Index: 1208 entries, 0 to 1222\n",
      "Data columns (total 8 columns):\n",
      " #   Column          Non-Null Count  Dtype \n",
      "---  ------          --------------  ----- \n",
      " 0   2021 Rank       1208 non-null   object\n",
      " 1   Municipality    1208 non-null   object\n",
      " 2   Designation     1208 non-null   object\n",
      " 3   Primary County  1208 non-null   object\n",
      " 4   2021 Estimate   1208 non-null   int64 \n",
      " 5   2020 Census     1208 non-null   object\n",
      " 6   2010 Census     1208 non-null   object\n",
      " 7   % Change        1208 non-null   object\n",
      "dtypes: int64(1), object(7)\n",
      "memory usage: 84.9+ KB\n"
     ]
    }
   ],
   "source": [
    "final_data = final_data.replace(\"-\",np.nan)\n",
    "final_data = final_data.dropna()\n",
    "final_data.info()"
   ]
  },
  {
   "cell_type": "markdown",
   "id": "8a0b5a1e",
   "metadata": {},
   "source": [
    "## Perform cleaning by removing unnecessary strings from numerical data"
   ]
  },
  {
   "cell_type": "code",
   "execution_count": 306,
   "id": "45628423",
   "metadata": {},
   "outputs": [
    {
     "data": {
      "text/html": [
       "<div>\n",
       "<style scoped>\n",
       "    .dataframe tbody tr th:only-of-type {\n",
       "        vertical-align: middle;\n",
       "    }\n",
       "\n",
       "    .dataframe tbody tr th {\n",
       "        vertical-align: top;\n",
       "    }\n",
       "\n",
       "    .dataframe thead th {\n",
       "        text-align: right;\n",
       "    }\n",
       "</style>\n",
       "<table border=\"1\" class=\"dataframe\">\n",
       "  <thead>\n",
       "    <tr style=\"text-align: right;\">\n",
       "      <th></th>\n",
       "      <th>2021 Rank</th>\n",
       "      <th>Municipality</th>\n",
       "      <th>Designation</th>\n",
       "      <th>Primary County</th>\n",
       "      <th>2021 Estimate</th>\n",
       "      <th>2020 Census</th>\n",
       "      <th>2010 Census</th>\n",
       "      <th>% Change</th>\n",
       "    </tr>\n",
       "  </thead>\n",
       "  <tbody>\n",
       "    <tr>\n",
       "      <th>0</th>\n",
       "      <td>1</td>\n",
       "      <td>Houston</td>\n",
       "      <td>City</td>\n",
       "      <td>Harris</td>\n",
       "      <td>2288250</td>\n",
       "      <td>2304580</td>\n",
       "      <td>2099451</td>\n",
       "      <td>9.77</td>\n",
       "    </tr>\n",
       "    <tr>\n",
       "      <th>1</th>\n",
       "      <td>2</td>\n",
       "      <td>San Antonio</td>\n",
       "      <td>City</td>\n",
       "      <td>Bexar</td>\n",
       "      <td>1451853</td>\n",
       "      <td>1434625</td>\n",
       "      <td>1327407</td>\n",
       "      <td>8.08</td>\n",
       "    </tr>\n",
       "    <tr>\n",
       "      <th>2</th>\n",
       "      <td>3</td>\n",
       "      <td>Dallas</td>\n",
       "      <td>City</td>\n",
       "      <td>Dallas</td>\n",
       "      <td>1288457</td>\n",
       "      <td>1304379</td>\n",
       "      <td>1197816</td>\n",
       "      <td>8.90</td>\n",
       "    </tr>\n",
       "    <tr>\n",
       "      <th>3</th>\n",
       "      <td>4</td>\n",
       "      <td>Austin</td>\n",
       "      <td>City</td>\n",
       "      <td>Travis</td>\n",
       "      <td>964177</td>\n",
       "      <td>961855</td>\n",
       "      <td>790390</td>\n",
       "      <td>21.69</td>\n",
       "    </tr>\n",
       "    <tr>\n",
       "      <th>4</th>\n",
       "      <td>5</td>\n",
       "      <td>Fort Worth</td>\n",
       "      <td>City</td>\n",
       "      <td>Tarrant</td>\n",
       "      <td>935508</td>\n",
       "      <td>918915</td>\n",
       "      <td>741206</td>\n",
       "      <td>23.98</td>\n",
       "    </tr>\n",
       "  </tbody>\n",
       "</table>\n",
       "</div>"
      ],
      "text/plain": [
       "  2021 Rank Municipality Designation Primary County  2021 Estimate  \\\n",
       "0         1      Houston        City         Harris        2288250   \n",
       "1         2  San Antonio        City          Bexar        1451853   \n",
       "2         3       Dallas        City         Dallas        1288457   \n",
       "3         4       Austin        City         Travis         964177   \n",
       "4         5   Fort Worth        City        Tarrant         935508   \n",
       "\n",
       "  2020 Census 2010 Census  % Change  \n",
       "0     2304580     2099451      9.77  \n",
       "1     1434625     1327407      8.08  \n",
       "2     1304379     1197816      8.90  \n",
       "3      961855      790390     21.69  \n",
       "4      918915      741206     23.98  "
      ]
     },
     "execution_count": 306,
     "metadata": {},
     "output_type": "execute_result"
    }
   ],
   "source": [
    "def convert_strings_to_float(s):\n",
    "    s = s.replace(\"%\",\"\")\n",
    "    s = s.replace(\"−\",\"-\")\n",
    "    s = s.replace(\",\",\"\")\n",
    "    s = s.replace(\"+\",\"\")\n",
    "    converted = float(s)\n",
    "    return converted\n",
    "\n",
    "\n",
    "final_data[\"% Change\"] = final_data[\"% Change\"].apply(convert_strings_to_float)\n",
    "\n",
    "\n",
    "final_data.head()\n"
   ]
  },
  {
   "cell_type": "markdown",
   "id": "1f0f4866",
   "metadata": {},
   "source": [
    "## Load the clean, Final Data to csv\n"
   ]
  },
  {
   "cell_type": "code",
   "execution_count": 307,
   "id": "93d5109f",
   "metadata": {},
   "outputs": [],
   "source": [
    "final_data.to_csv(\"WikiTxCitiesPopulationFinal.csv\")"
   ]
  },
  {
   "cell_type": "markdown",
   "id": "b8e5321a",
   "metadata": {},
   "source": [
    "# Data Analysis and Visualization\n",
    "- Now that the data is cleaned, we can start to analyze the data\n",
    "- Here are the Descriptive Statistics for the attribute \"Pop Census (2020)\"\n",
    "- First import the neccessary modules"
   ]
  },
  {
   "cell_type": "code",
   "execution_count": 330,
   "id": "13c27f33",
   "metadata": {},
   "outputs": [
    {
     "data": {
      "text/plain": [
       "count    1.208000e+03\n",
       "mean     5.903278e+04\n",
       "std      1.039002e+06\n",
       "min      0.000000e+00\n",
       "25%      6.430000e+02\n",
       "50%      1.870500e+03\n",
       "75%      6.478750e+03\n",
       "max      2.914550e+07\n",
       "Name: 2020 Census, dtype: float64"
      ]
     },
     "execution_count": 330,
     "metadata": {},
     "output_type": "execute_result"
    }
   ],
   "source": [
    "import pandas as pd\n",
    "import numpy as np\n",
    "import scipy\n",
    "from matplotlib import pyplot as plt\n",
    "from IPython.core.interactiveshell import InteractiveShell\n",
    "import pylab as pl\n",
    "\n",
    "InteractiveShell.ast_node_interactivity = \"all\"\n",
    "\n",
    "\n",
    "txpopulation_df = pd.read_csv(\"WikiTxCitiesPopulationFinal.csv\")\n",
    "pop_census = txpopulation_df[\"2020 Census\"]\n",
    "pop_census.describe()\n"
   ]
  },
  {
   "cell_type": "markdown",
   "id": "1d53dcbb",
   "metadata": {},
   "source": [
    "### Insights\n",
    "\n",
    "- The average population from the 2020 census for 1208 cities in Texas was 5.9 * 10^4\n",
    "- The min or lowest population from the 2020 census for 1208 cities in Texas was 0\n",
    "- The max or highest population from the 2020 census for 1208 cities in Texas was 2.91 * 10^7\n",
    "- The standard deviation from the 2020 population census for 1208 cities in Texas was 1.03 * 10^6\n",
    "- The IQR (75%-25%) from the 2020 population census for 1208 cities in Texas was 5835.75\n",
    "\n",
    "\n"
   ]
  },
  {
   "cell_type": "markdown",
   "id": "cfeee4ef",
   "metadata": {},
   "source": [
    "## Histogram "
   ]
  },
  {
   "cell_type": "code",
   "execution_count": 333,
   "id": "b0432134",
   "metadata": {},
   "outputs": [
    {
     "data": {
      "text/plain": [
       "<AxesSubplot:>"
      ]
     },
     "execution_count": 333,
     "metadata": {},
     "output_type": "execute_result"
    },
    {
     "data": {
      "text/plain": [
       "Text(0.5, 0.98, 'Population Census for Texas Municipalities (2020)')"
      ]
     },
     "execution_count": 333,
     "metadata": {},
     "output_type": "execute_result"
    },
    {
     "data": {
      "text/plain": [
       "Text(0.5, 0, 'Texas Municipalities Population Census (2020)')"
      ]
     },
     "execution_count": 333,
     "metadata": {},
     "output_type": "execute_result"
    },
    {
     "data": {
      "text/plain": [
       "Text(0, 0.5, 'Frequency')"
      ]
     },
     "execution_count": 333,
     "metadata": {},
     "output_type": "execute_result"
    },
    {
     "data": {
      "image/png": "[encoded data removed]",
      "text/plain": [
       "<Figure size 640x480 with 1 Axes>"
      ]
     },
     "metadata": {},
     "output_type": "display_data"
    }
   ],
   "source": [
    "pop_census.hist(bins=15)\n",
    "pl.suptitle(\"Population Census for Texas Municipalities (2020)\")\n",
    "pl.xlabel(\"Texas Municipalities Population Census (2020)\")\n",
    "pl.ylabel(\"Frequency\")"
   ]
  },
  {
   "cell_type": "markdown",
   "id": "e30d0468",
   "metadata": {},
   "source": [
    "### Insights\n",
    "- With 15 bins, the data appears to be skewed right\n",
    "- Outliers appearing at 2.0 * 10^7 and beyond\n",
    "- Median and IQR are recommended measures of center and spread"
   ]
  },
  {
   "cell_type": "markdown",
   "id": "102260b2",
   "metadata": {},
   "source": [
    "# Boxplot "
   ]
  },
  {
   "cell_type": "code",
   "execution_count": 324,
   "id": "1f74eac5",
   "metadata": {},
   "outputs": [
    {
     "data": {
      "text/plain": [
       "{'whiskers': [<matplotlib.lines.Line2D at 0x162843ec790>,\n",
       "  <matplotlib.lines.Line2D at 0x162843eca60>],\n",
       " 'caps': [<matplotlib.lines.Line2D at 0x162843ecd30>,\n",
       "  <matplotlib.lines.Line2D at 0x162843fc040>],\n",
       " 'boxes': [<matplotlib.lines.Line2D at 0x162843ec4c0>],\n",
       " 'medians': [<matplotlib.lines.Line2D at 0x162843fc310>],\n",
       " 'fliers': [<matplotlib.lines.Line2D at 0x162843fc5e0>],\n",
       " 'means': []}"
      ]
     },
     "execution_count": 324,
     "metadata": {},
     "output_type": "execute_result"
    },
    {
     "data": {
      "text/plain": [
       "Text(0.5, 0, 'Population Census for Texas Cities (2020)')"
      ]
     },
     "execution_count": 324,
     "metadata": {},
     "output_type": "execute_result"
    },
    {
     "data": {
      "text/plain": [
       "Text(0, 0.5, 'Population')"
      ]
     },
     "execution_count": 324,
     "metadata": {},
     "output_type": "execute_result"
    },
    {
     "data": {
      "image/png": "[encoded data removed]",
      "text/plain": [
       "<Figure size 640x480 with 1 Axes>"
      ]
     },
     "metadata": {},
     "output_type": "display_data"
    }
   ],
   "source": [
    "plt.boxplot(pop_census)\n",
    "\n",
    "plt.xlabel(\"Population Census for Texas Cities (2020)\")\n",
    "plt.ylabel(\"Population\")"
   ]
  },
  {
   "cell_type": "markdown",
   "id": "4f50e713",
   "metadata": {},
   "source": [
    "## Insights from Boxplot\n",
    "- There are outliers both mainly above the boxplot\n",
    "- The distribution of the data is not normal\n",
    "- Most data is concentrated between 0.0 and 0.5 * 10^7\n"
   ]
  },
  {
   "cell_type": "markdown",
   "id": "49a00698",
   "metadata": {},
   "source": [
    "# Bar Chart"
   ]
  },
  {
   "cell_type": "code",
   "execution_count": 332,
   "id": "c0da194e",
   "metadata": {},
   "outputs": [
    {
     "data": {
      "text/plain": [
       "<BarContainer object of 10 artists>"
      ]
     },
     "execution_count": 332,
     "metadata": {},
     "output_type": "execute_result"
    },
    {
     "data": {
      "text/plain": [
       "([0, 1, 2, 3, 4, 5, 6, 7, 8, 9],\n",
       " [Text(0, 0, ''),\n",
       "  Text(0, 0, ''),\n",
       "  Text(0, 0, ''),\n",
       "  Text(0, 0, ''),\n",
       "  Text(0, 0, ''),\n",
       "  Text(0, 0, ''),\n",
       "  Text(0, 0, ''),\n",
       "  Text(0, 0, ''),\n",
       "  Text(0, 0, ''),\n",
       "  Text(0, 0, '')])"
      ]
     },
     "execution_count": 332,
     "metadata": {},
     "output_type": "execute_result"
    },
    {
     "data": {
      "text/plain": [
       "Text(0.5, 0, 'Municipality of TX')"
      ]
     },
     "execution_count": 332,
     "metadata": {},
     "output_type": "execute_result"
    },
    {
     "data": {
      "text/plain": [
       "Text(0, 0.5, 'Pop Census (2020)')"
      ]
     },
     "execution_count": 332,
     "metadata": {},
     "output_type": "execute_result"
    },
    {
     "data": {
      "text/plain": [
       "Text(0.5, 1.0, 'Pop Census (2020) and Municipality of TX (Top 10)')"
      ]
     },
     "execution_count": 332,
     "metadata": {},
     "output_type": "execute_result"
    },
    {
     "data": {
      "image/png": "[encoded data removed]",
      "text/plain": [
       "<Figure size 640x480 with 1 Axes>"
      ]
     },
     "metadata": {},
     "output_type": "display_data"
    }
   ],
   "source": [
    "# Use a bar chart for plotting gross vs director_name\n",
    "x_column = txpopulation_df[\"Municipality\"]\n",
    "y_column = txpopulation_df[\"2020 Census\"]\n",
    "\n",
    "selected_x = []\n",
    "selected_y = []\n",
    "\n",
    "for rows in range(10):\n",
    "    selected_x.append(x_column[rows])\n",
    "    selected_y.append(y_column[rows])\n",
    "    \n",
    "\n",
    "# Now plot our bar graph\n",
    "plt.bar(selected_x, selected_y, color ='red', width =.4)\n",
    "plt.xticks(rotation=30, ha='right')\n",
    "\n",
    "\n",
    "plt.xlabel(\"Municipality of TX\")\n",
    "plt.ylabel(\"Pop Census (2020)\")\n",
    "plt.title(\"Pop Census (2020) and Municipality of TX (Top 10)\")"
   ]
  },
  {
   "cell_type": "markdown",
   "id": "68355803",
   "metadata": {},
   "source": [
    "### Insights\n",
    "- Compared to the other cities, in 2020, Houston has the greatest population in the US, by a huge difference, which shows the reason for why the data was skewed\n",
    "- Houston is the most populated, with San Antonio and Dallas coming in 2nd and 3rd most populated cities in Texas\n",
    "- Austin is 4th most populated in Texas!\n",
    "- The bar graph shows that most of the cities that are have a high population are near metroplexes"
   ]
  }
 ],
 "metadata": {
  "kernelspec": {
   "display_name": "Python 3 (ipykernel)",
   "language": "python",
   "name": "python3"
  },
  "language_info": {
   "codemirror_mode": {
    "name": "ipython",
    "version": 3
   },
   "file_extension": ".py",
   "mimetype": "text/x-python",
   "name": "python",
   "nbconvert_exporter": "python",
   "pygments_lexer": "ipython3",
   "version": "3.9.13"
  }
 },
 "nbformat": 4,
 "nbformat_minor": 5
}
