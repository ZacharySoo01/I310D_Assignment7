{
 "cells": [
  {
   "cell_type": "markdown",
   "id": "f80c73c1",
   "metadata": {},
   "source": [
    "# Implementation of the ETL method (Extract, Transform, Load)"
   ]
  },
  {
   "cell_type": "markdown",
   "id": "454e6462",
   "metadata": {},
   "source": [
    "## Extracting the Raw Data from the webpage\n",
    "- First, import the libraries (pandas, requests, and BeautifulSoup)\n",
    "- Choose a url (I chose a wikipedia page) and get the status code from the url\n",
    "- If the code is 200, we can proceed with extracting data\n",
    "- Next, parse wikipedia page with BeautifulSoup\n",
    "- Find html with \"table\", and grab data from the 4th table (the one we want)\n",
    "- Convert the raw data from the table to a pandas Dataframe"
   ]
  },
  {
   "cell_type": "code",
   "execution_count": 153,
   "id": "0b926c97",
   "metadata": {},
   "outputs": [
    {
     "name": "stdout",
     "output_type": "stream",
     "text": [
      "200\n"
     ]
    },
    {
     "data": {
      "text/html": [
       "<div>\n",
       "<style scoped>\n",
       "    .dataframe tbody tr th:only-of-type {\n",
       "        vertical-align: middle;\n",
       "    }\n",
       "\n",
       "    .dataframe tbody tr th {\n",
       "        vertical-align: top;\n",
       "    }\n",
       "\n",
       "    .dataframe thead th {\n",
       "        text-align: right;\n",
       "    }\n",
       "</style>\n",
       "<table border=\"1\" class=\"dataframe\">\n",
       "  <thead>\n",
       "    <tr style=\"text-align: right;\">\n",
       "      <th></th>\n",
       "      <th>2021rank</th>\n",
       "      <th>City</th>\n",
       "      <th>State[c]</th>\n",
       "      <th>2021estimate</th>\n",
       "      <th>2020census</th>\n",
       "      <th>Change</th>\n",
       "      <th>2020 land area</th>\n",
       "      <th>2020 land area.1</th>\n",
       "      <th>2020 population density</th>\n",
       "      <th>2020 population density.1</th>\n",
       "      <th>Location</th>\n",
       "    </tr>\n",
       "  </thead>\n",
       "  <tbody>\n",
       "    <tr>\n",
       "      <th>0</th>\n",
       "      <td>1</td>\n",
       "      <td>New York[d]</td>\n",
       "      <td>New York</td>\n",
       "      <td>8467513</td>\n",
       "      <td>8804190</td>\n",
       "      <td>−3.82%</td>\n",
       "      <td>300.5 sq mi</td>\n",
       "      <td>778.3 km2</td>\n",
       "      <td>29,298/sq mi</td>\n",
       "      <td>11,312/km2</td>\n",
       "      <td>.mw-parser-output .geo-default,.mw-parser-outp...</td>\n",
       "    </tr>\n",
       "    <tr>\n",
       "      <th>1</th>\n",
       "      <td>2</td>\n",
       "      <td>Los Angeles</td>\n",
       "      <td>California</td>\n",
       "      <td>3849297</td>\n",
       "      <td>3898747</td>\n",
       "      <td>−1.27%</td>\n",
       "      <td>469.5 sq mi</td>\n",
       "      <td>1,216.0 km2</td>\n",
       "      <td>8,304/sq mi</td>\n",
       "      <td>3,206/km2</td>\n",
       "      <td>34°01′N 118°25′W﻿ / ﻿34.02°N 118.41°W</td>\n",
       "    </tr>\n",
       "    <tr>\n",
       "      <th>2</th>\n",
       "      <td>3</td>\n",
       "      <td>Chicago</td>\n",
       "      <td>Illinois</td>\n",
       "      <td>2696555</td>\n",
       "      <td>2746388</td>\n",
       "      <td>−1.81%</td>\n",
       "      <td>227.7 sq mi</td>\n",
       "      <td>589.7 km2</td>\n",
       "      <td>12,061/sq mi</td>\n",
       "      <td>4,657/km2</td>\n",
       "      <td>41°50′N 87°41′W﻿ / ﻿41.84°N 87.68°W</td>\n",
       "    </tr>\n",
       "    <tr>\n",
       "      <th>3</th>\n",
       "      <td>4</td>\n",
       "      <td>Houston</td>\n",
       "      <td>Texas</td>\n",
       "      <td>2288250</td>\n",
       "      <td>2304580</td>\n",
       "      <td>−0.71%</td>\n",
       "      <td>640.4 sq mi</td>\n",
       "      <td>1,658.6 km2</td>\n",
       "      <td>3,599/sq mi</td>\n",
       "      <td>1,390/km2</td>\n",
       "      <td>29°47′N 95°23′W﻿ / ﻿29.79°N 95.39°W</td>\n",
       "    </tr>\n",
       "    <tr>\n",
       "      <th>4</th>\n",
       "      <td>5</td>\n",
       "      <td>Phoenix</td>\n",
       "      <td>Arizona</td>\n",
       "      <td>1624569</td>\n",
       "      <td>1608139</td>\n",
       "      <td>+1.02%</td>\n",
       "      <td>518.0 sq mi</td>\n",
       "      <td>1,341.6 km2</td>\n",
       "      <td>3,105/sq mi</td>\n",
       "      <td>1,199/km2</td>\n",
       "      <td>33°34′N 112°05′W﻿ / ﻿33.57°N 112.09°W</td>\n",
       "    </tr>\n",
       "  </tbody>\n",
       "</table>\n",
       "</div>"
      ],
      "text/plain": [
       "   2021rank         City    State[c]  2021estimate  2020census  Change  \\\n",
       "0         1  New York[d]    New York       8467513     8804190  −3.82%   \n",
       "1         2  Los Angeles  California       3849297     3898747  −1.27%   \n",
       "2         3      Chicago    Illinois       2696555     2746388  −1.81%   \n",
       "3         4      Houston       Texas       2288250     2304580  −0.71%   \n",
       "4         5      Phoenix     Arizona       1624569     1608139  +1.02%   \n",
       "\n",
       "  2020 land area 2020 land area.1 2020 population density  \\\n",
       "0    300.5 sq mi        778.3 km2            29,298/sq mi   \n",
       "1    469.5 sq mi      1,216.0 km2             8,304/sq mi   \n",
       "2    227.7 sq mi        589.7 km2            12,061/sq mi   \n",
       "3    640.4 sq mi      1,658.6 km2             3,599/sq mi   \n",
       "4    518.0 sq mi      1,341.6 km2             3,105/sq mi   \n",
       "\n",
       "  2020 population density.1                                           Location  \n",
       "0                11,312/km2  .mw-parser-output .geo-default,.mw-parser-outp...  \n",
       "1                 3,206/km2              34°01′N 118°25′W﻿ / ﻿34.02°N 118.41°W  \n",
       "2                 4,657/km2                41°50′N 87°41′W﻿ / ﻿41.84°N 87.68°W  \n",
       "3                 1,390/km2                29°47′N 95°23′W﻿ / ﻿29.79°N 95.39°W  \n",
       "4                 1,199/km2              33°34′N 112°05′W﻿ / ﻿33.57°N 112.09°W  "
      ]
     },
     "execution_count": 153,
     "metadata": {},
     "output_type": "execute_result"
    }
   ],
   "source": [
    "import pandas as pd \n",
    "import requests \n",
    "from bs4 import BeautifulSoup \n",
    "wikiurl=\"https://en.wikipedia.org/wiki/List_of_United_States_cities_by_population\"\n",
    "table_class=\"wikitable sortable jquery-tablesorter\"\n",
    "response=requests.get(wikiurl)\n",
    "print(response.status_code)\n",
    "# parse wikipedia page with BeautifulSoup\n",
    "soup = BeautifulSoup(response.text, 'html.parser')\n",
    "# since there are multiple tables in the webpage, grab data from the 4th table (the one we want)\n",
    "ustable=soup.find_all('table')[4]\n",
    "raw_data=pd.read_html(str(ustable))\n",
    "# convert raw data from table to dataframe\n",
    "raw_data=pd.DataFrame(raw_data[0])\n",
    "raw_data.head()"
   ]
  },
  {
   "cell_type": "markdown",
   "id": "1a3557db",
   "metadata": {},
   "source": [
    "## Load the noisy, Raw Data to CSV"
   ]
  },
  {
   "cell_type": "code",
   "execution_count": 154,
   "id": "95cac797",
   "metadata": {},
   "outputs": [],
   "source": [
    "raw_data.to_csv(\"WikiUSCitiesPopulationRaw.csv\")"
   ]
  },
  {
   "cell_type": "markdown",
   "id": "66e2d631",
   "metadata": {},
   "source": [
    "## Transforming the Data\n",
    "- Create dataframe variable that will contain the final data, name it \"final_data\"\n",
    "- Drop unnecessary columns from the table (I kept the columns with land area and population density in 2020 with units of km^2 and dropped the columns with data in sq miles and location)\n",
    "- Rename the remaining columns names and check result by printing the head"
   ]
  },
  {
   "cell_type": "code",
   "execution_count": 155,
   "id": "8b221ed7",
   "metadata": {},
   "outputs": [
    {
     "data": {
      "text/html": [
       "<div>\n",
       "<style scoped>\n",
       "    .dataframe tbody tr th:only-of-type {\n",
       "        vertical-align: middle;\n",
       "    }\n",
       "\n",
       "    .dataframe tbody tr th {\n",
       "        vertical-align: top;\n",
       "    }\n",
       "\n",
       "    .dataframe thead th {\n",
       "        text-align: right;\n",
       "    }\n",
       "</style>\n",
       "<table border=\"1\" class=\"dataframe\">\n",
       "  <thead>\n",
       "    <tr style=\"text-align: right;\">\n",
       "      <th></th>\n",
       "      <th>City Rank in 2021</th>\n",
       "      <th>City</th>\n",
       "      <th>State</th>\n",
       "      <th>Pop Estimate (2021)</th>\n",
       "      <th>Pop Census (2020)</th>\n",
       "      <th>% Change</th>\n",
       "      <th>2020 land area (in km^2)</th>\n",
       "      <th>2020 population density (per km^2)</th>\n",
       "    </tr>\n",
       "  </thead>\n",
       "  <tbody>\n",
       "    <tr>\n",
       "      <th>0</th>\n",
       "      <td>1</td>\n",
       "      <td>New York[d]</td>\n",
       "      <td>New York</td>\n",
       "      <td>8467513</td>\n",
       "      <td>8804190</td>\n",
       "      <td>−3.82%</td>\n",
       "      <td>778.3 km2</td>\n",
       "      <td>11,312/km2</td>\n",
       "    </tr>\n",
       "    <tr>\n",
       "      <th>1</th>\n",
       "      <td>2</td>\n",
       "      <td>Los Angeles</td>\n",
       "      <td>California</td>\n",
       "      <td>3849297</td>\n",
       "      <td>3898747</td>\n",
       "      <td>−1.27%</td>\n",
       "      <td>1,216.0 km2</td>\n",
       "      <td>3,206/km2</td>\n",
       "    </tr>\n",
       "    <tr>\n",
       "      <th>2</th>\n",
       "      <td>3</td>\n",
       "      <td>Chicago</td>\n",
       "      <td>Illinois</td>\n",
       "      <td>2696555</td>\n",
       "      <td>2746388</td>\n",
       "      <td>−1.81%</td>\n",
       "      <td>589.7 km2</td>\n",
       "      <td>4,657/km2</td>\n",
       "    </tr>\n",
       "    <tr>\n",
       "      <th>3</th>\n",
       "      <td>4</td>\n",
       "      <td>Houston</td>\n",
       "      <td>Texas</td>\n",
       "      <td>2288250</td>\n",
       "      <td>2304580</td>\n",
       "      <td>−0.71%</td>\n",
       "      <td>1,658.6 km2</td>\n",
       "      <td>1,390/km2</td>\n",
       "    </tr>\n",
       "    <tr>\n",
       "      <th>4</th>\n",
       "      <td>5</td>\n",
       "      <td>Phoenix</td>\n",
       "      <td>Arizona</td>\n",
       "      <td>1624569</td>\n",
       "      <td>1608139</td>\n",
       "      <td>+1.02%</td>\n",
       "      <td>1,341.6 km2</td>\n",
       "      <td>1,199/km2</td>\n",
       "    </tr>\n",
       "  </tbody>\n",
       "</table>\n",
       "</div>"
      ],
      "text/plain": [
       "   City Rank in 2021         City       State  Pop Estimate (2021)  \\\n",
       "0                  1  New York[d]    New York              8467513   \n",
       "1                  2  Los Angeles  California              3849297   \n",
       "2                  3      Chicago    Illinois              2696555   \n",
       "3                  4      Houston       Texas              2288250   \n",
       "4                  5      Phoenix     Arizona              1624569   \n",
       "\n",
       "   Pop Census (2020) % Change 2020 land area (in km^2)  \\\n",
       "0            8804190   −3.82%                778.3 km2   \n",
       "1            3898747   −1.27%              1,216.0 km2   \n",
       "2            2746388   −1.81%                589.7 km2   \n",
       "3            2304580   −0.71%              1,658.6 km2   \n",
       "4            1608139   +1.02%              1,341.6 km2   \n",
       "\n",
       "  2020 population density (per km^2)  \n",
       "0                         11,312/km2  \n",
       "1                          3,206/km2  \n",
       "2                          4,657/km2  \n",
       "3                          1,390/km2  \n",
       "4                          1,199/km2  "
      ]
     },
     "execution_count": 155,
     "metadata": {},
     "output_type": "execute_result"
    }
   ],
   "source": [
    "# drop the unwanted columns\n",
    "final_data = df.drop([\"2020 population density\", \"Location\",\"2020 land area\"], axis=1)\n",
    "# rename columns for ease\n",
    "final_data = final_data.rename(columns={\"State[c]\": \"State\",\"Population(2011)[3]\": \"Population\", \"Change\":\"% Change\", \"2020 land area.1\":\"2020 land area (in km^2)\",\"2020 population density.1\": \"2020 population density (per km^2)\",\"2021estimate\":\"Pop Estimate (2021)\", \"2020census\": \"Pop Census (2020)\", \"2021rank\":\"City Rank in 2021\"})\n",
    "final_data.head()\n"
   ]
  },
  {
   "cell_type": "markdown",
   "id": "abfd42a1",
   "metadata": {},
   "source": [
    "## Perform Duplication checks on the data"
   ]
  },
  {
   "cell_type": "code",
   "execution_count": 156,
   "id": "a811b1d9",
   "metadata": {},
   "outputs": [
    {
     "name": "stdout",
     "output_type": "stream",
     "text": [
      " Number of duplicates before : 0\n",
      " Number of duplicates after removing : 0\n"
     ]
    }
   ],
   "source": [
    "number_of_duplicates = final_data.duplicated().sum()\n",
    "print (f\" Number of duplicates before : {number_of_duplicates}\")\n",
    "\n",
    "\n",
    "final_data = final_data.drop_duplicates()\n",
    "\n",
    "number_of_duplicates = final_data.duplicated().sum()\n",
    "print (f\" Number of duplicates after removing : {number_of_duplicates}\")"
   ]
  },
  {
   "cell_type": "markdown",
   "id": "9ec5baea",
   "metadata": {},
   "source": [
    "## Inspecting the data for noisy entries"
   ]
  },
  {
   "cell_type": "code",
   "execution_count": 157,
   "id": "89d84533",
   "metadata": {
    "scrolled": true
   },
   "outputs": [
    {
     "name": "stdout",
     "output_type": "stream",
     "text": [
      "<class 'pandas.core.frame.DataFrame'>\n",
      "Int64Index: 331 entries, 0 to 330\n",
      "Data columns (total 8 columns):\n",
      " #   Column                              Non-Null Count  Dtype \n",
      "---  ------                              --------------  ----- \n",
      " 0   City Rank in 2021                   331 non-null    int64 \n",
      " 1   City                                331 non-null    object\n",
      " 2   State                               331 non-null    object\n",
      " 3   Pop Estimate (2021)                 331 non-null    int64 \n",
      " 4   Pop Census (2020)                   331 non-null    int64 \n",
      " 5   % Change                            329 non-null    object\n",
      " 6   2020 land area (in km^2)            331 non-null    object\n",
      " 7   2020 population density (per km^2)  331 non-null    object\n",
      "dtypes: int64(3), object(5)\n",
      "memory usage: 23.3+ KB\n"
     ]
    }
   ],
   "source": [
    "final_data.info()"
   ]
  },
  {
   "cell_type": "markdown",
   "id": "8ae33d86",
   "metadata": {},
   "source": [
    "## Drop the null entries"
   ]
  },
  {
   "cell_type": "code",
   "execution_count": 158,
   "id": "67e6df75",
   "metadata": {},
   "outputs": [
    {
     "name": "stdout",
     "output_type": "stream",
     "text": [
      "<class 'pandas.core.frame.DataFrame'>\n",
      "Int64Index: 329 entries, 0 to 330\n",
      "Data columns (total 8 columns):\n",
      " #   Column                              Non-Null Count  Dtype \n",
      "---  ------                              --------------  ----- \n",
      " 0   City Rank in 2021                   329 non-null    int64 \n",
      " 1   City                                329 non-null    object\n",
      " 2   State                               329 non-null    object\n",
      " 3   Pop Estimate (2021)                 329 non-null    int64 \n",
      " 4   Pop Census (2020)                   329 non-null    int64 \n",
      " 5   % Change                            329 non-null    object\n",
      " 6   2020 land area (in km^2)            329 non-null    object\n",
      " 7   2020 population density (per km^2)  329 non-null    object\n",
      "dtypes: int64(3), object(5)\n",
      "memory usage: 23.1+ KB\n"
     ]
    }
   ],
   "source": [
    "final_data = final_data.dropna()\n",
    "final_data.info()"
   ]
  },
  {
   "cell_type": "markdown",
   "id": "6bcfe152",
   "metadata": {},
   "source": [
    "## Perform cleaning by removing unnecessary strings from numerical data"
   ]
  },
  {
   "cell_type": "code",
   "execution_count": 159,
   "id": "34ac928c",
   "metadata": {},
   "outputs": [
    {
     "data": {
      "text/html": [
       "<div>\n",
       "<style scoped>\n",
       "    .dataframe tbody tr th:only-of-type {\n",
       "        vertical-align: middle;\n",
       "    }\n",
       "\n",
       "    .dataframe tbody tr th {\n",
       "        vertical-align: top;\n",
       "    }\n",
       "\n",
       "    .dataframe thead th {\n",
       "        text-align: right;\n",
       "    }\n",
       "</style>\n",
       "<table border=\"1\" class=\"dataframe\">\n",
       "  <thead>\n",
       "    <tr style=\"text-align: right;\">\n",
       "      <th></th>\n",
       "      <th>City Rank in 2021</th>\n",
       "      <th>City</th>\n",
       "      <th>State</th>\n",
       "      <th>Pop Estimate (2021)</th>\n",
       "      <th>Pop Census (2020)</th>\n",
       "      <th>% Change</th>\n",
       "      <th>2020 land area (in km^2)</th>\n",
       "      <th>2020 population density (per km^2)</th>\n",
       "    </tr>\n",
       "  </thead>\n",
       "  <tbody>\n",
       "    <tr>\n",
       "      <th>0</th>\n",
       "      <td>1</td>\n",
       "      <td>New York[d]</td>\n",
       "      <td>New York</td>\n",
       "      <td>8467513</td>\n",
       "      <td>8804190</td>\n",
       "      <td>-3.82</td>\n",
       "      <td>778.3</td>\n",
       "      <td>11312.0</td>\n",
       "    </tr>\n",
       "    <tr>\n",
       "      <th>1</th>\n",
       "      <td>2</td>\n",
       "      <td>Los Angeles</td>\n",
       "      <td>California</td>\n",
       "      <td>3849297</td>\n",
       "      <td>3898747</td>\n",
       "      <td>-1.27</td>\n",
       "      <td>1216.0</td>\n",
       "      <td>3206.0</td>\n",
       "    </tr>\n",
       "    <tr>\n",
       "      <th>2</th>\n",
       "      <td>3</td>\n",
       "      <td>Chicago</td>\n",
       "      <td>Illinois</td>\n",
       "      <td>2696555</td>\n",
       "      <td>2746388</td>\n",
       "      <td>-1.81</td>\n",
       "      <td>589.7</td>\n",
       "      <td>4657.0</td>\n",
       "    </tr>\n",
       "    <tr>\n",
       "      <th>3</th>\n",
       "      <td>4</td>\n",
       "      <td>Houston</td>\n",
       "      <td>Texas</td>\n",
       "      <td>2288250</td>\n",
       "      <td>2304580</td>\n",
       "      <td>-0.71</td>\n",
       "      <td>1658.6</td>\n",
       "      <td>1390.0</td>\n",
       "    </tr>\n",
       "    <tr>\n",
       "      <th>4</th>\n",
       "      <td>5</td>\n",
       "      <td>Phoenix</td>\n",
       "      <td>Arizona</td>\n",
       "      <td>1624569</td>\n",
       "      <td>1608139</td>\n",
       "      <td>1.02</td>\n",
       "      <td>1341.6</td>\n",
       "      <td>1199.0</td>\n",
       "    </tr>\n",
       "  </tbody>\n",
       "</table>\n",
       "</div>"
      ],
      "text/plain": [
       "   City Rank in 2021         City       State  Pop Estimate (2021)  \\\n",
       "0                  1  New York[d]    New York              8467513   \n",
       "1                  2  Los Angeles  California              3849297   \n",
       "2                  3      Chicago    Illinois              2696555   \n",
       "3                  4      Houston       Texas              2288250   \n",
       "4                  5      Phoenix     Arizona              1624569   \n",
       "\n",
       "   Pop Census (2020)  % Change  2020 land area (in km^2)  \\\n",
       "0            8804190     -3.82                     778.3   \n",
       "1            3898747     -1.27                    1216.0   \n",
       "2            2746388     -1.81                     589.7   \n",
       "3            2304580     -0.71                    1658.6   \n",
       "4            1608139      1.02                    1341.6   \n",
       "\n",
       "   2020 population density (per km^2)  \n",
       "0                             11312.0  \n",
       "1                              3206.0  \n",
       "2                              4657.0  \n",
       "3                              1390.0  \n",
       "4                              1199.0  "
      ]
     },
     "execution_count": 159,
     "metadata": {},
     "output_type": "execute_result"
    }
   ],
   "source": [
    "def convert_strings_to_float(s):\n",
    "    s = s.replace(\"%\",\"\")\n",
    "    s = s.replace(\"−\",\"-\")\n",
    "    s = s.replace(\"km2\",\"\")\n",
    "    s = s.replace(\",\",\"\")\n",
    "    s = s.replace(\"/\",\"\")\n",
    "    converted = float(s)\n",
    "    return converted\n",
    "\n",
    "final_data[\"2020 population density (per km^2)\"] = final_data[\"2020 population density (per km^2)\"].apply(convert_strings_to_float)\n",
    "final_data[\"2020 land area (in km^2)\"] = final_data[\"2020 land area (in km^2)\"].apply(convert_strings_to_float)\n",
    "final_data[\"% Change\"] = final_data[\"% Change\"].apply(convert_strings_to_float)\n",
    "\n",
    "final_data.head()\n"
   ]
  },
  {
   "cell_type": "markdown",
   "id": "1f0f4866",
   "metadata": {},
   "source": [
    "## Load the clean, Final Data to csv"
   ]
  },
  {
   "cell_type": "code",
   "execution_count": 160,
   "id": "93d5109f",
   "metadata": {},
   "outputs": [],
   "source": [
    "final_data.to_csv(\"WikiUSCitiesPopulationFinal.csv\")"
   ]
  },
  {
   "cell_type": "markdown",
   "id": "157ff4b9",
   "metadata": {},
   "source": [
    "# Data Analysis and Visualization"
   ]
  },
  {
   "cell_type": "code",
   "execution_count": 162,
   "id": "2e0c6242",
   "metadata": {},
   "outputs": [
    {
     "data": {
      "text/plain": [
       "count    329.000000\n",
       "mean      -0.028480\n",
       "std        1.813772\n",
       "min       -6.720000\n",
       "25%       -0.980000\n",
       "50%       -0.250000\n",
       "75%        0.740000\n",
       "max       10.720000\n",
       "Name: % Change, dtype: float64"
      ]
     },
     "execution_count": 162,
     "metadata": {},
     "output_type": "execute_result"
    }
   ],
   "source": [
    "final_data[\"% Change\"].describe()"
   ]
  },
  {
   "cell_type": "code",
   "execution_count": null,
   "id": "78302b68",
   "metadata": {},
   "outputs": [],
   "source": []
  }
 ],
 "metadata": {
  "kernelspec": {
   "display_name": "Python 3 (ipykernel)",
   "language": "python",
   "name": "python3"
  },
  "language_info": {
   "codemirror_mode": {
    "name": "ipython",
    "version": 3
   },
   "file_extension": ".py",
   "mimetype": "text/x-python",
   "name": "python",
   "nbconvert_exporter": "python",
   "pygments_lexer": "ipython3",
   "version": "3.9.13"
  }
 },
 "nbformat": 4,
 "nbformat_minor": 5
}
